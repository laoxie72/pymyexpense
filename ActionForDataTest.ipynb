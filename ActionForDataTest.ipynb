{
 "cells": [
  {
   "cell_type": "code",
   "id": "initial_id",
   "metadata": {
    "collapsed": true,
    "ExecuteTime": {
     "end_time": "2024-11-12T05:06:42.026818Z",
     "start_time": "2024-11-12T05:06:40.715440Z"
    }
   },
   "source": [
    "import pymysql\n",
    "import statistics\n",
    "\n",
    "# 连接到 MySQL 数据库\n",
    "connection = pymysql.connect(\n",
    "    host=\"localhost\",\n",
    "    user=\"root\",\n",
    "    password=\"Qpwoeiruty123!\",\n",
    "    database=\"py-db\"\n",
    ")\n",
    "\n",
    "try:\n",
    "    # 创建游标并执行查询\n",
    "    with connection.cursor() as cursor:\n",
    "        query = \"SELECT `金额（可执行）` FROM table_detail WHERE `项目` != '小结'AND NOT `金额（可执行）` > 0\"\n",
    "        cursor.execute(query)\n",
    "        \n",
    "        # 获取查询结果并转换为列表\n",
    "        result = cursor.fetchall()\n",
    "        ages = [row[0] for row in result]\n",
    "        \n",
    "        # 检查数据是否为空\n",
    "        if ages:\n",
    "            # 计算平均值和方差\n",
    "            avg_cash = statistics.mean(ages)\n",
    "            variance_cash = statistics.variance(ages)\n",
    "            \n",
    "            print(f\"年龄的平均值: {avg_cash}\")\n",
    "            print(f\"年龄的方差: {variance_cash}\")\n",
    "        else:\n",
    "            print(\"没有符合条件的数据。\")\n",
    "finally:\n",
    "    # 关闭数据库连接\n",
    "    connection.close()\n"
   ],
   "outputs": [
    {
     "ename": "OperationalError",
     "evalue": "(2003, \"Can't connect to MySQL server on 'py-db@localhost' ([Errno 11003] getaddrinfo failed)\")",
     "output_type": "error",
     "traceback": [
      "\u001B[1;31m---------------------------------------------------------------------------\u001B[0m",
      "\u001B[1;31mgaierror\u001B[0m                                  Traceback (most recent call last)",
      "File \u001B[1;32mD:\\Anaconda3\\envs\\py-db1\\Lib\\site-packages\\pymysql\\connections.py:613\u001B[0m, in \u001B[0;36mConnection.connect\u001B[1;34m(self, sock)\u001B[0m\n\u001B[0;32m    612\u001B[0m \u001B[38;5;28;01mtry\u001B[39;00m:\n\u001B[1;32m--> 613\u001B[0m     sock \u001B[38;5;241m=\u001B[39m socket\u001B[38;5;241m.\u001B[39mcreate_connection(\n\u001B[0;32m    614\u001B[0m         (\u001B[38;5;28mself\u001B[39m\u001B[38;5;241m.\u001B[39mhost, \u001B[38;5;28mself\u001B[39m\u001B[38;5;241m.\u001B[39mport), \u001B[38;5;28mself\u001B[39m\u001B[38;5;241m.\u001B[39mconnect_timeout, \u001B[38;5;241m*\u001B[39m\u001B[38;5;241m*\u001B[39mkwargs\n\u001B[0;32m    615\u001B[0m     )\n\u001B[0;32m    616\u001B[0m     \u001B[38;5;28;01mbreak\u001B[39;00m\n",
      "File \u001B[1;32mD:\\Anaconda3\\envs\\py-db1\\Lib\\socket.py:839\u001B[0m, in \u001B[0;36mcreate_connection\u001B[1;34m(address, timeout, source_address, all_errors)\u001B[0m\n\u001B[0;32m    838\u001B[0m exceptions \u001B[38;5;241m=\u001B[39m []\n\u001B[1;32m--> 839\u001B[0m \u001B[38;5;28;01mfor\u001B[39;00m res \u001B[38;5;129;01min\u001B[39;00m getaddrinfo(host, port, \u001B[38;5;241m0\u001B[39m, SOCK_STREAM):\n\u001B[0;32m    840\u001B[0m     af, socktype, proto, canonname, sa \u001B[38;5;241m=\u001B[39m res\n",
      "File \u001B[1;32mD:\\Anaconda3\\envs\\py-db1\\Lib\\socket.py:974\u001B[0m, in \u001B[0;36mgetaddrinfo\u001B[1;34m(host, port, family, type, proto, flags)\u001B[0m\n\u001B[0;32m    973\u001B[0m addrlist \u001B[38;5;241m=\u001B[39m []\n\u001B[1;32m--> 974\u001B[0m \u001B[38;5;28;01mfor\u001B[39;00m res \u001B[38;5;129;01min\u001B[39;00m _socket\u001B[38;5;241m.\u001B[39mgetaddrinfo(host, port, family, \u001B[38;5;28mtype\u001B[39m, proto, flags):\n\u001B[0;32m    975\u001B[0m     af, socktype, proto, canonname, sa \u001B[38;5;241m=\u001B[39m res\n",
      "\u001B[1;31mgaierror\u001B[0m: [Errno 11003] getaddrinfo failed",
      "\nDuring handling of the above exception, another exception occurred:\n",
      "\u001B[1;31mOperationalError\u001B[0m                          Traceback (most recent call last)",
      "Cell \u001B[1;32mIn[1], line 5\u001B[0m\n\u001B[0;32m      2\u001B[0m \u001B[38;5;28;01mimport\u001B[39;00m \u001B[38;5;21;01mstatistics\u001B[39;00m\n\u001B[0;32m      4\u001B[0m \u001B[38;5;66;03m# 连接到 MySQL 数据库\u001B[39;00m\n\u001B[1;32m----> 5\u001B[0m connection \u001B[38;5;241m=\u001B[39m pymysql\u001B[38;5;241m.\u001B[39mconnect(\n\u001B[0;32m      6\u001B[0m     host\u001B[38;5;241m=\u001B[39m\u001B[38;5;124m\"\u001B[39m\u001B[38;5;124mpy-db@localhost\u001B[39m\u001B[38;5;124m\"\u001B[39m,\n\u001B[0;32m      7\u001B[0m     user\u001B[38;5;241m=\u001B[39m\u001B[38;5;124m\"\u001B[39m\u001B[38;5;124mroot\u001B[39m\u001B[38;5;124m\"\u001B[39m,\n\u001B[0;32m      8\u001B[0m     password\u001B[38;5;241m=\u001B[39m\u001B[38;5;124m\"\u001B[39m\u001B[38;5;124mQpwoeiruty123!\u001B[39m\u001B[38;5;124m\"\u001B[39m,\n\u001B[0;32m      9\u001B[0m     database\u001B[38;5;241m=\u001B[39m\u001B[38;5;124m\"\u001B[39m\u001B[38;5;124mpy-db\u001B[39m\u001B[38;5;124m\"\u001B[39m\n\u001B[0;32m     10\u001B[0m )\n\u001B[0;32m     12\u001B[0m \u001B[38;5;28;01mtry\u001B[39;00m:\n\u001B[0;32m     13\u001B[0m     \u001B[38;5;66;03m# 创建游标并执行查询\u001B[39;00m\n\u001B[0;32m     14\u001B[0m     \u001B[38;5;28;01mwith\u001B[39;00m connection\u001B[38;5;241m.\u001B[39mcursor() \u001B[38;5;28;01mas\u001B[39;00m cursor:\n",
      "File \u001B[1;32mD:\\Anaconda3\\envs\\py-db1\\Lib\\site-packages\\pymysql\\connections.py:353\u001B[0m, in \u001B[0;36mConnection.__init__\u001B[1;34m(self, user, password, host, database, unix_socket, port, charset, sql_mode, read_default_file, conv, use_unicode, client_flag, cursorclass, init_command, connect_timeout, read_default_group, autocommit, local_infile, max_allowed_packet, defer_connect, auth_plugin_map, read_timeout, write_timeout, bind_address, binary_prefix, program_name, server_public_key, ssl, ssl_ca, ssl_cert, ssl_disabled, ssl_key, ssl_verify_cert, ssl_verify_identity, compress, named_pipe, passwd, db)\u001B[0m\n\u001B[0;32m    351\u001B[0m     \u001B[38;5;28mself\u001B[39m\u001B[38;5;241m.\u001B[39m_sock \u001B[38;5;241m=\u001B[39m \u001B[38;5;28;01mNone\u001B[39;00m\n\u001B[0;32m    352\u001B[0m \u001B[38;5;28;01melse\u001B[39;00m:\n\u001B[1;32m--> 353\u001B[0m     \u001B[38;5;28mself\u001B[39m\u001B[38;5;241m.\u001B[39mconnect()\n",
      "File \u001B[1;32mD:\\Anaconda3\\envs\\py-db1\\Lib\\site-packages\\pymysql\\connections.py:664\u001B[0m, in \u001B[0;36mConnection.connect\u001B[1;34m(self, sock)\u001B[0m\n\u001B[0;32m    662\u001B[0m     \u001B[38;5;28;01mif\u001B[39;00m DEBUG:\n\u001B[0;32m    663\u001B[0m         \u001B[38;5;28mprint\u001B[39m(exc\u001B[38;5;241m.\u001B[39mtraceback)\n\u001B[1;32m--> 664\u001B[0m     \u001B[38;5;28;01mraise\u001B[39;00m exc\n\u001B[0;32m    666\u001B[0m \u001B[38;5;66;03m# If e is neither DatabaseError or IOError, It's a bug.\u001B[39;00m\n\u001B[0;32m    667\u001B[0m \u001B[38;5;66;03m# But raising AssertionError hides original error.\u001B[39;00m\n\u001B[0;32m    668\u001B[0m \u001B[38;5;66;03m# So just reraise it.\u001B[39;00m\n\u001B[0;32m    669\u001B[0m \u001B[38;5;28;01mraise\u001B[39;00m\n",
      "\u001B[1;31mOperationalError\u001B[0m: (2003, \"Can't connect to MySQL server on 'py-db@localhost' ([Errno 11003] getaddrinfo failed)\")"
     ]
    }
   ],
   "execution_count": 1
  }
 ],
 "metadata": {
  "kernelspec": {
   "display_name": "Python 3",
   "language": "python",
   "name": "python3"
  },
  "language_info": {
   "codemirror_mode": {
    "name": "ipython",
    "version": 2
   },
   "file_extension": ".py",
   "mimetype": "text/x-python",
   "name": "python",
   "nbconvert_exporter": "python",
   "pygments_lexer": "ipython2",
   "version": "2.7.6"
  }
 },
 "nbformat": 4,
 "nbformat_minor": 5
}
